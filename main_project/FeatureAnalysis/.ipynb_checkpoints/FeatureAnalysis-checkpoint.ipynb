{
 "cells": [
  {
   "cell_type": "code",
   "execution_count": 53,
   "metadata": {},
   "outputs": [],
   "source": [
    "import numpy as np \n",
    "import pandas as pd # data processing, CSV file I/O (e.g. pd.read_csv)\n"
   ]
  },
  {
   "cell_type": "code",
   "execution_count": 54,
   "metadata": {},
   "outputs": [
    {
     "name": "stdout",
     "output_type": "stream",
     "text": [
      "<class 'pandas.core.frame.DataFrame'>\n",
      "RangeIndex: 426 entries, 0 to 425\n",
      "Data columns (total 14 columns):\n",
      "Unnamed: 0       426 non-null int64\n",
      "Toss             426 non-null object\n",
      "MatchID          426 non-null int64\n",
      "Toss_Decision    426 non-null object\n",
      "Margin           426 non-null object\n",
      "Winner           426 non-null object\n",
      "Date             426 non-null object\n",
      "Venue            426 non-null object\n",
      "TeamA            426 non-null object\n",
      "TeamB            426 non-null object\n",
      "HTH              426 non-null float64\n",
      "WinningPerDes    426 non-null float64\n",
      "Strength         426 non-null float64\n",
      "Latest_Form      426 non-null float64\n",
      "dtypes: float64(4), int64(2), object(8)\n",
      "memory usage: 46.7+ KB\n"
     ]
    }
   ],
   "source": [
    "matches=pd.read_csv('Output.csv')\n",
    "matches.info()"
   ]
  },
  {
   "cell_type": "code",
   "execution_count": 55,
   "metadata": {},
   "outputs": [
    {
     "data": {
      "text/html": [
       "<div>\n",
       "<style scoped>\n",
       "    .dataframe tbody tr th:only-of-type {\n",
       "        vertical-align: middle;\n",
       "    }\n",
       "\n",
       "    .dataframe tbody tr th {\n",
       "        vertical-align: top;\n",
       "    }\n",
       "\n",
       "    .dataframe thead th {\n",
       "        text-align: right;\n",
       "    }\n",
       "</style>\n",
       "<table border=\"1\" class=\"dataframe\">\n",
       "  <thead>\n",
       "    <tr style=\"text-align: right;\">\n",
       "      <th></th>\n",
       "      <th>Unnamed: 0</th>\n",
       "      <th>Toss</th>\n",
       "      <th>Toss_Decision</th>\n",
       "      <th>Winner</th>\n",
       "      <th>TeamA</th>\n",
       "      <th>TeamB</th>\n",
       "      <th>HTH</th>\n",
       "      <th>WinningPerDes</th>\n",
       "      <th>Strength</th>\n",
       "      <th>Latest_Form</th>\n",
       "    </tr>\n",
       "  </thead>\n",
       "  <tbody>\n",
       "    <tr>\n",
       "      <th>0</th>\n",
       "      <td>0</td>\n",
       "      <td>South Africa</td>\n",
       "      <td>field</td>\n",
       "      <td>South Africa</td>\n",
       "      <td>South Africa</td>\n",
       "      <td>Sri Lanka</td>\n",
       "      <td>1.000000</td>\n",
       "      <td>0.0</td>\n",
       "      <td>16.795000</td>\n",
       "      <td>5.90326</td>\n",
       "    </tr>\n",
       "    <tr>\n",
       "      <th>1</th>\n",
       "      <td>1</td>\n",
       "      <td>South Africa</td>\n",
       "      <td>bat</td>\n",
       "      <td>Sri Lanka</td>\n",
       "      <td>South Africa</td>\n",
       "      <td>Sri Lanka</td>\n",
       "      <td>1.000000</td>\n",
       "      <td>0.0</td>\n",
       "      <td>4.058062</td>\n",
       "      <td>5.90326</td>\n",
       "    </tr>\n",
       "    <tr>\n",
       "      <th>2</th>\n",
       "      <td>2</td>\n",
       "      <td>South Africa</td>\n",
       "      <td>bat</td>\n",
       "      <td>South Africa</td>\n",
       "      <td>South Africa</td>\n",
       "      <td>Sri Lanka</td>\n",
       "      <td>0.000000</td>\n",
       "      <td>0.0</td>\n",
       "      <td>15.274242</td>\n",
       "      <td>5.90326</td>\n",
       "    </tr>\n",
       "    <tr>\n",
       "      <th>3</th>\n",
       "      <td>3</td>\n",
       "      <td>Sri Lanka</td>\n",
       "      <td>bat</td>\n",
       "      <td>Sri Lanka</td>\n",
       "      <td>South Africa</td>\n",
       "      <td>Sri Lanka</td>\n",
       "      <td>0.666667</td>\n",
       "      <td>1.0</td>\n",
       "      <td>3.781395</td>\n",
       "      <td>5.90326</td>\n",
       "    </tr>\n",
       "    <tr>\n",
       "      <th>4</th>\n",
       "      <td>4</td>\n",
       "      <td>Zimbabwe</td>\n",
       "      <td>bat</td>\n",
       "      <td>New Zealand</td>\n",
       "      <td>New Zealand</td>\n",
       "      <td>Zimbabwe</td>\n",
       "      <td>0.750000</td>\n",
       "      <td>0.0</td>\n",
       "      <td>17.873302</td>\n",
       "      <td>6.27126</td>\n",
       "    </tr>\n",
       "  </tbody>\n",
       "</table>\n",
       "</div>"
      ],
      "text/plain": [
       "   Unnamed: 0          Toss Toss_Decision        Winner         TeamA  \\\n",
       "0           0  South Africa         field  South Africa  South Africa   \n",
       "1           1  South Africa           bat     Sri Lanka  South Africa   \n",
       "2           2  South Africa           bat  South Africa  South Africa   \n",
       "3           3     Sri Lanka           bat     Sri Lanka  South Africa   \n",
       "4           4      Zimbabwe           bat   New Zealand   New Zealand   \n",
       "\n",
       "       TeamB       HTH  WinningPerDes   Strength  Latest_Form  \n",
       "0  Sri Lanka  1.000000            0.0  16.795000      5.90326  \n",
       "1  Sri Lanka  1.000000            0.0   4.058062      5.90326  \n",
       "2  Sri Lanka  0.000000            0.0  15.274242      5.90326  \n",
       "3  Sri Lanka  0.666667            1.0   3.781395      5.90326  \n",
       "4   Zimbabwe  0.750000            0.0  17.873302      6.27126  "
      ]
     },
     "execution_count": 55,
     "metadata": {},
     "output_type": "execute_result"
    }
   ],
   "source": [
    "to_drop=['MatchID','Margin','Date','Venue']\n",
    "matches.drop(to_drop, inplace=True, axis=1)\n",
    "matches.head(5)"
   ]
  },
  {
   "cell_type": "code",
   "execution_count": null,
   "metadata": {},
   "outputs": [],
   "source": []
  },
  {
   "cell_type": "code",
   "execution_count": 119,
   "metadata": {},
   "outputs": [
    {
     "data": {
      "image/png": "[encoded data removed]",
      "text/plain": [
       "<Figure size 1080x504 with 1 Axes>"
      ]
     },
     "metadata": {},
     "output_type": "display_data"
    }
   ],
   "source": [
    "import seaborn as sns\n",
    "import matplotlib.pyplot as plt\n",
    "\n",
    "sns.countplot(x='Winner',hue='Toss',data=matches)\n",
    "sns.set(rc={'figure.figsize':(15,7)})\n",
    "plt.savefig(\"toosvswin.png\")"
   ]
  },
  {
   "cell_type": "code",
   "execution_count": 117,
   "metadata": {},
   "outputs": [
    {
     "data": {
      "image/png": "[encoded data removed]",
      "text/plain": [
       "<Figure size 1152x576 with 1 Axes>"
      ]
     },
     "metadata": {},
     "output_type": "display_data"
    }
   ],
   "source": [
    "import seaborn as sns\n",
    "import matplotlib.pyplot as plt\n",
    "\n",
    "sns.countplot(x='Winner',hue='Toss_Decision',data=matches)\n",
    "sns.set(rc={'figure.figsize':(16,8)})\n",
    "sns.set(font_scale=1.2)\n",
    "plt.savefig(\"tossdecivswinner.png\")"
   ]
  },
  {
   "cell_type": "code",
   "execution_count": 136,
   "metadata": {},
   "outputs": [
    {
     "data": {
      "image/png": "[encoded data removed]",
      "text/plain": [
       "<Figure size 1440x576 with 1 Axes>"
      ]
     },
     "metadata": {},
     "output_type": "display_data"
    }
   ],
   "source": [
    "import seaborn as sns\n",
    "import matplotlib.pyplot as plt\n",
    "\n",
    "sns.countplot(x='Winner',hue='TeamA',data=matches)\n",
    "sns.set(rc={'figure.figsize':(20,8)})\n",
    "sns.set(font_scale=1.5)\n",
    "plt.savefig(\"hometeam1.png\")"
   ]
  },
  {
   "cell_type": "code",
   "execution_count": 137,
   "metadata": {},
   "outputs": [
    {
     "data": {
      "text/html": [
       "<div>\n",
       "<style scoped>\n",
       "    .dataframe tbody tr th:only-of-type {\n",
       "        vertical-align: middle;\n",
       "    }\n",
       "\n",
       "    .dataframe tbody tr th {\n",
       "        vertical-align: top;\n",
       "    }\n",
       "\n",
       "    .dataframe thead th {\n",
       "        text-align: right;\n",
       "    }\n",
       "</style>\n",
       "<table border=\"1\" class=\"dataframe\">\n",
       "  <thead>\n",
       "    <tr style=\"text-align: right;\">\n",
       "      <th></th>\n",
       "      <th>Unnamed: 0</th>\n",
       "      <th>Toss</th>\n",
       "      <th>Toss_Decision</th>\n",
       "      <th>Winner</th>\n",
       "      <th>TeamA</th>\n",
       "      <th>TeamB</th>\n",
       "      <th>HTH</th>\n",
       "      <th>WinningPerDes</th>\n",
       "      <th>Strength</th>\n",
       "      <th>Latest_Form</th>\n",
       "    </tr>\n",
       "  </thead>\n",
       "  <tbody>\n",
       "    <tr>\n",
       "      <th>0</th>\n",
       "      <td>0</td>\n",
       "      <td>3</td>\n",
       "      <td>field</td>\n",
       "      <td>3</td>\n",
       "      <td>3</td>\n",
       "      <td>7</td>\n",
       "      <td>1.000000</td>\n",
       "      <td>0.0</td>\n",
       "      <td>16.795000</td>\n",
       "      <td>5.90326</td>\n",
       "    </tr>\n",
       "    <tr>\n",
       "      <th>1</th>\n",
       "      <td>1</td>\n",
       "      <td>3</td>\n",
       "      <td>bat</td>\n",
       "      <td>7</td>\n",
       "      <td>3</td>\n",
       "      <td>7</td>\n",
       "      <td>1.000000</td>\n",
       "      <td>0.0</td>\n",
       "      <td>4.058062</td>\n",
       "      <td>5.90326</td>\n",
       "    </tr>\n",
       "    <tr>\n",
       "      <th>2</th>\n",
       "      <td>2</td>\n",
       "      <td>3</td>\n",
       "      <td>bat</td>\n",
       "      <td>3</td>\n",
       "      <td>3</td>\n",
       "      <td>7</td>\n",
       "      <td>0.000000</td>\n",
       "      <td>0.0</td>\n",
       "      <td>15.274242</td>\n",
       "      <td>5.90326</td>\n",
       "    </tr>\n",
       "    <tr>\n",
       "      <th>3</th>\n",
       "      <td>3</td>\n",
       "      <td>7</td>\n",
       "      <td>bat</td>\n",
       "      <td>7</td>\n",
       "      <td>3</td>\n",
       "      <td>7</td>\n",
       "      <td>0.666667</td>\n",
       "      <td>1.0</td>\n",
       "      <td>3.781395</td>\n",
       "      <td>5.90326</td>\n",
       "    </tr>\n",
       "    <tr>\n",
       "      <th>4</th>\n",
       "      <td>4</td>\n",
       "      <td>10</td>\n",
       "      <td>bat</td>\n",
       "      <td>5</td>\n",
       "      <td>5</td>\n",
       "      <td>10</td>\n",
       "      <td>0.750000</td>\n",
       "      <td>0.0</td>\n",
       "      <td>17.873302</td>\n",
       "      <td>6.27126</td>\n",
       "    </tr>\n",
       "  </tbody>\n",
       "</table>\n",
       "</div>"
      ],
      "text/plain": [
       "   Unnamed: 0  Toss Toss_Decision  Winner  TeamA  TeamB       HTH  \\\n",
       "0           0     3         field       3      3      7  1.000000   \n",
       "1           1     3           bat       7      3      7  1.000000   \n",
       "2           2     3           bat       3      3      7  0.000000   \n",
       "3           3     7           bat       7      3      7  0.666667   \n",
       "4           4    10           bat       5      5     10  0.750000   \n",
       "\n",
       "   WinningPerDes   Strength  Latest_Form  \n",
       "0            0.0  16.795000      5.90326  \n",
       "1            0.0   4.058062      5.90326  \n",
       "2            0.0  15.274242      5.90326  \n",
       "3            1.0   3.781395      5.90326  \n",
       "4            0.0  17.873302      6.27126  "
      ]
     },
     "execution_count": 137,
     "metadata": {},
     "output_type": "execute_result"
    }
   ],
   "source": [
    "matches.replace(['Australia','India','Sri Lanka','South Africa','England',\n",
    "                 'New Zealand','Pakistan','West Indies','Bangladesh','Zimbabwe']\n",
    "                ,['AUS','IND','SL','SA','ENG','NZ','PAK','WI','BAN','ZIM'],inplace=True)\n",
    "\n",
    "encode = {'TeamA': {'AUS':1,'IND':2,'SA':3,'ENG':4,'NZ':5,'PAK':6,'SL':7,'WI':8,'BAN':9,'ZIM':10},\n",
    "          'TeamB':  {'AUS':1,'IND':2,'SA':3,'ENG':4,'NZ':5,'PAK':6,'SL':7,'WI':8,'BAN':9,'ZIM':10},\n",
    "          'Toss':  {'AUS':1,'IND':2,'SA':3,'ENG':4,'NZ':5,'PAK':6,'SL':7,'WI':8,'BAN':9,'ZIM':10},\n",
    "          'Winner':  {'AUS':1,'IND':2,'SA':3,'ENG':4,'NZ':5,'PAK':6,'SL':7,'WI':8,'BAN':9,'ZIM':10}}\n",
    "matches.replace(encode, inplace=True)\n",
    "matches.head(5)"
   ]
  },
  {
   "cell_type": "code",
   "execution_count": 138,
   "metadata": {},
   "outputs": [
    {
     "name": "stdout",
     "output_type": "stream",
     "text": [
      "1\n",
      "AUS\n"
     ]
    }
   ],
   "source": [
    "#we maintain a dictionary for future reference mapping teams\n",
    "dicVal = encode['Winner']\n",
    "print(dicVal['AUS']) #key value\n",
    "print(list(dicVal.keys())[list(dicVal.values()).index(1)]) #find key by value search "
   ]
  },
  {
   "cell_type": "code",
   "execution_count": 139,
   "metadata": {},
   "outputs": [
    {
     "data": {
      "text/html": [
       "<div>\n",
       "<style scoped>\n",
       "    .dataframe tbody tr th:only-of-type {\n",
       "        vertical-align: middle;\n",
       "    }\n",
       "\n",
       "    .dataframe tbody tr th {\n",
       "        vertical-align: top;\n",
       "    }\n",
       "\n",
       "    .dataframe thead th {\n",
       "        text-align: right;\n",
       "    }\n",
       "</style>\n",
       "<table border=\"1\" class=\"dataframe\">\n",
       "  <thead>\n",
       "    <tr style=\"text-align: right;\">\n",
       "      <th></th>\n",
       "      <th>Unnamed: 0</th>\n",
       "      <th>Toss</th>\n",
       "      <th>Winner</th>\n",
       "      <th>TeamA</th>\n",
       "      <th>TeamB</th>\n",
       "      <th>HTH</th>\n",
       "      <th>WinningPerDes</th>\n",
       "      <th>Strength</th>\n",
       "      <th>Latest_Form</th>\n",
       "    </tr>\n",
       "  </thead>\n",
       "  <tbody>\n",
       "    <tr>\n",
       "      <th>count</th>\n",
       "      <td>426.000000</td>\n",
       "      <td>426.000000</td>\n",
       "      <td>426.000000</td>\n",
       "      <td>426.000000</td>\n",
       "      <td>426.000000</td>\n",
       "      <td>426.000000</td>\n",
       "      <td>426.000000</td>\n",
       "      <td>426.000000</td>\n",
       "      <td>426.000000</td>\n",
       "    </tr>\n",
       "    <tr>\n",
       "      <th>mean</th>\n",
       "      <td>275.011737</td>\n",
       "      <td>5.192488</td>\n",
       "      <td>4.586854</td>\n",
       "      <td>4.107981</td>\n",
       "      <td>6.276995</td>\n",
       "      <td>0.471828</td>\n",
       "      <td>0.385334</td>\n",
       "      <td>2.855799</td>\n",
       "      <td>2.475315</td>\n",
       "    </tr>\n",
       "    <tr>\n",
       "      <th>std</th>\n",
       "      <td>161.892578</td>\n",
       "      <td>2.834334</td>\n",
       "      <td>2.677702</td>\n",
       "      <td>2.765771</td>\n",
       "      <td>2.407495</td>\n",
       "      <td>0.329128</td>\n",
       "      <td>0.319958</td>\n",
       "      <td>11.032037</td>\n",
       "      <td>5.013916</td>\n",
       "    </tr>\n",
       "    <tr>\n",
       "      <th>min</th>\n",
       "      <td>0.000000</td>\n",
       "      <td>1.000000</td>\n",
       "      <td>1.000000</td>\n",
       "      <td>1.000000</td>\n",
       "      <td>2.000000</td>\n",
       "      <td>0.000000</td>\n",
       "      <td>0.000000</td>\n",
       "      <td>-29.494394</td>\n",
       "      <td>-25.397632</td>\n",
       "    </tr>\n",
       "    <tr>\n",
       "      <th>25%</th>\n",
       "      <td>132.250000</td>\n",
       "      <td>3.000000</td>\n",
       "      <td>2.000000</td>\n",
       "      <td>2.000000</td>\n",
       "      <td>4.000000</td>\n",
       "      <td>0.200000</td>\n",
       "      <td>0.000000</td>\n",
       "      <td>-4.695630</td>\n",
       "      <td>-0.055227</td>\n",
       "    </tr>\n",
       "    <tr>\n",
       "      <th>50%</th>\n",
       "      <td>281.000000</td>\n",
       "      <td>5.000000</td>\n",
       "      <td>4.000000</td>\n",
       "      <td>4.000000</td>\n",
       "      <td>7.000000</td>\n",
       "      <td>0.500000</td>\n",
       "      <td>0.400000</td>\n",
       "      <td>3.349741</td>\n",
       "      <td>2.597594</td>\n",
       "    </tr>\n",
       "    <tr>\n",
       "      <th>75%</th>\n",
       "      <td>421.750000</td>\n",
       "      <td>7.000000</td>\n",
       "      <td>7.000000</td>\n",
       "      <td>6.000000</td>\n",
       "      <td>8.000000</td>\n",
       "      <td>0.700000</td>\n",
       "      <td>0.600000</td>\n",
       "      <td>10.392614</td>\n",
       "      <td>5.294175</td>\n",
       "    </tr>\n",
       "    <tr>\n",
       "      <th>max</th>\n",
       "      <td>544.000000</td>\n",
       "      <td>10.000000</td>\n",
       "      <td>10.000000</td>\n",
       "      <td>9.000000</td>\n",
       "      <td>10.000000</td>\n",
       "      <td>1.000000</td>\n",
       "      <td>1.000000</td>\n",
       "      <td>34.146515</td>\n",
       "      <td>31.334423</td>\n",
       "    </tr>\n",
       "  </tbody>\n",
       "</table>\n",
       "</div>"
      ],
      "text/plain": [
       "       Unnamed: 0        Toss      Winner       TeamA       TeamB         HTH  \\\n",
       "count  426.000000  426.000000  426.000000  426.000000  426.000000  426.000000   \n",
       "mean   275.011737    5.192488    4.586854    4.107981    6.276995    0.471828   \n",
       "std    161.892578    2.834334    2.677702    2.765771    2.407495    0.329128   \n",
       "min      0.000000    1.000000    1.000000    1.000000    2.000000    0.000000   \n",
       "25%    132.250000    3.000000    2.000000    2.000000    4.000000    0.200000   \n",
       "50%    281.000000    5.000000    4.000000    4.000000    7.000000    0.500000   \n",
       "75%    421.750000    7.000000    7.000000    6.000000    8.000000    0.700000   \n",
       "max    544.000000   10.000000   10.000000    9.000000   10.000000    1.000000   \n",
       "\n",
       "       WinningPerDes    Strength  Latest_Form  \n",
       "count     426.000000  426.000000   426.000000  \n",
       "mean        0.385334    2.855799     2.475315  \n",
       "std         0.319958   11.032037     5.013916  \n",
       "min         0.000000  -29.494394   -25.397632  \n",
       "25%         0.000000   -4.695630    -0.055227  \n",
       "50%         0.400000    3.349741     2.597594  \n",
       "75%         0.600000   10.392614     5.294175  \n",
       "max         1.000000   34.146515    31.334423  "
      ]
     },
     "execution_count": 139,
     "metadata": {},
     "output_type": "execute_result"
    }
   ],
   "source": [
    "df = pd.DataFrame(matches)\n",
    "df.describe()"
   ]
  },
  {
   "cell_type": "code",
   "execution_count": 140,
   "metadata": {},
   "outputs": [
    {
     "name": "stdout",
     "output_type": "stream",
     "text": [
      "No of toss winners by each team\n",
      "SL -> 55\n",
      "IND -> 54\n",
      "ENG -> 50\n",
      "AUS -> 46\n",
      "PAK -> 44\n",
      "SA -> 44\n",
      "ZIM -> 35\n",
      "WI -> 35\n",
      "BAN -> 33\n",
      "NZ -> 30\n",
      "No of match winners by each team\n",
      "IND -> 73\n",
      "SL -> 61\n",
      "AUS -> 60\n",
      "SA -> 48\n",
      "PAK -> 45\n",
      "ENG -> 41\n",
      "WI -> 32\n",
      "NZ -> 30\n",
      "BAN -> 23\n",
      "ZIM -> 13\n"
     ]
    }
   ],
   "source": [
    "#Find some stats on the match winners and toss winners\n",
    "temp1=df['Toss'].value_counts(sort=True)\n",
    "temp2=df['Winner'].value_counts(sort=True)\n",
    "print('No of toss winners by each team')\n",
    "for idx, val in temp1.iteritems():\n",
    "   print('{} -> {}'.format(list(dicVal.keys())[list(dicVal.values()).index(idx)],val))\n",
    "print('No of match winners by each team')\n",
    "for idx, val in temp2.iteritems():\n",
    "   print('{} -> {}'.format(list(dicVal.keys())[list(dicVal.values()).index(idx)],val))"
   ]
  },
  {
   "cell_type": "code",
   "execution_count": 141,
   "metadata": {},
   "outputs": [],
   "source": [
    "\n",
    "temp1=df['Toss'].replace([1,2,3,4,5,6,7,8,9,10], ['Australia','India','Sri Lanka','South Africa','England','New Zealand','Pakistan','West Indies','Bangladesh','Zimbabwe'], inplace=True)\n",
    "temp2=df['Winner'].replace([1,2,3,4,5,6,7,8,9,10], ['Australia','India','Sri Lanka','South Africa','England','New Zealand','Pakistan','West Indies','Bangladesh','Zimbabwe'], inplace=True)\n",
    "temp1=df['Toss'].value_counts(sort=True)\n",
    "temp2=df['Winner'].value_counts(sort=True)"
   ]
  },
  {
   "cell_type": "code",
   "execution_count": null,
   "metadata": {},
   "outputs": [],
   "source": []
  },
  {
   "cell_type": "code",
   "execution_count": 142,
   "metadata": {},
   "outputs": [
    {
     "data": {
      "image/png": "[encoded data removed]",
      "text/plain": [
       "<Figure size 1152x576 with 2 Axes>"
      ]
     },
     "metadata": {},
     "output_type": "display_data"
    }
   ],
   "source": [
    "from PIL import Image\n",
    "import matplotlib.pyplot as plt\n",
    "fig = plt.figure(figsize=(16,8))\n",
    "ax1 = fig.add_subplot(121)\n",
    "ax1.set_ylabel('Count of Toss Winners')\n",
    "ax1.set_title(\"Toss winners\")\n",
    "temp1.plot(kind='bar')\n",
    "ax2 = fig.add_subplot(122)\n",
    "temp2.plot(kind = 'bar')\n",
    "ax2.set_ylabel('Count of Match Winners')\n",
    "ax2.set_title(\"Match Winners\")\n",
    "plt.rcParams.update({'font.size': 20})\n",
    "\n",
    "fig.savefig(\"match_winners.png\",bbox_inches = 'tight')\n"
   ]
  },
  {
   "cell_type": "code",
   "execution_count": null,
   "metadata": {},
   "outputs": [],
   "source": []
  },
  {
   "cell_type": "code",
   "execution_count": 143,
   "metadata": {},
   "outputs": [
    {
     "data": {
      "text/plain": [
       "Unnamed: 0       0\n",
       "Toss             0\n",
       "Toss_Decision    0\n",
       "Winner           0\n",
       "TeamA            0\n",
       "TeamB            0\n",
       "HTH              0\n",
       "WinningPerDes    0\n",
       "Strength         0\n",
       "Latest_Form      0\n",
       "dtype: int64"
      ]
     },
     "execution_count": 143,
     "metadata": {},
     "output_type": "execute_result"
    }
   ],
   "source": [
    " df.apply(lambda x: sum(x.isnull()),axis=0) \n",
    "    #find the null values in every column"
   ]
  },
  {
   "cell_type": "code",
   "execution_count": 144,
   "metadata": {},
   "outputs": [
    {
     "data": {
      "text/html": [
       "<div>\n",
       "<style scoped>\n",
       "    .dataframe tbody tr th:only-of-type {\n",
       "        vertical-align: middle;\n",
       "    }\n",
       "\n",
       "    .dataframe tbody tr th {\n",
       "        vertical-align: top;\n",
       "    }\n",
       "\n",
       "    .dataframe thead th {\n",
       "        text-align: right;\n",
       "    }\n",
       "</style>\n",
       "<table border=\"1\" class=\"dataframe\">\n",
       "  <thead>\n",
       "    <tr style=\"text-align: right;\">\n",
       "      <th></th>\n",
       "      <th>Unnamed: 0</th>\n",
       "      <th>Toss</th>\n",
       "      <th>Toss_Decision</th>\n",
       "      <th>Winner</th>\n",
       "      <th>TeamA</th>\n",
       "      <th>TeamB</th>\n",
       "      <th>HTH</th>\n",
       "      <th>WinningPerDes</th>\n",
       "      <th>Strength</th>\n",
       "      <th>Latest_Form</th>\n",
       "    </tr>\n",
       "  </thead>\n",
       "  <tbody>\n",
       "    <tr>\n",
       "      <th>0</th>\n",
       "      <td>0</td>\n",
       "      <td>7</td>\n",
       "      <td>1</td>\n",
       "      <td>7</td>\n",
       "      <td>3</td>\n",
       "      <td>7</td>\n",
       "      <td>1.0</td>\n",
       "      <td>0.0</td>\n",
       "      <td>16.795000</td>\n",
       "      <td>5.90326</td>\n",
       "    </tr>\n",
       "    <tr>\n",
       "      <th>1</th>\n",
       "      <td>1</td>\n",
       "      <td>7</td>\n",
       "      <td>0</td>\n",
       "      <td>5</td>\n",
       "      <td>3</td>\n",
       "      <td>7</td>\n",
       "      <td>1.0</td>\n",
       "      <td>0.0</td>\n",
       "      <td>4.058062</td>\n",
       "      <td>5.90326</td>\n",
       "    </tr>\n",
       "    <tr>\n",
       "      <th>2</th>\n",
       "      <td>2</td>\n",
       "      <td>7</td>\n",
       "      <td>0</td>\n",
       "      <td>7</td>\n",
       "      <td>3</td>\n",
       "      <td>7</td>\n",
       "      <td>0.0</td>\n",
       "      <td>0.0</td>\n",
       "      <td>15.274242</td>\n",
       "      <td>5.90326</td>\n",
       "    </tr>\n",
       "  </tbody>\n",
       "</table>\n",
       "</div>"
      ],
      "text/plain": [
       "   Unnamed: 0  Toss  Toss_Decision  Winner  TeamA  TeamB  HTH  WinningPerDes  \\\n",
       "0           0     7              1       7      3      7  1.0            0.0   \n",
       "1           1     7              0       5      3      7  1.0            0.0   \n",
       "2           2     7              0       7      3      7  0.0            0.0   \n",
       "\n",
       "    Strength  Latest_Form  \n",
       "0  16.795000      5.90326  \n",
       "1   4.058062      5.90326  \n",
       "2  15.274242      5.90326  "
      ]
     },
     "execution_count": 144,
     "metadata": {},
     "output_type": "execute_result"
    }
   ],
   "source": [
    "#building predictive model\n",
    "from sklearn.preprocessing import LabelEncoder\n",
    "var_mod = ['Toss','Winner','Toss_Decision']\n",
    "le = LabelEncoder()\n",
    "for i in var_mod:\n",
    "    df[i] = le.fit_transform(df[i])\n",
    "df.dtypes \n",
    "df.head(3)"
   ]
  },
  {
   "cell_type": "code",
   "execution_count": 145,
   "metadata": {},
   "outputs": [
    {
     "name": "stderr",
     "output_type": "stream",
     "text": [
      "C:\\Users\\cityzen10\\AppData\\Local\\Continuum\\anaconda3\\lib\\site-packages\\sklearn\\cross_validation.py:44: DeprecationWarning: This module was deprecated in version 0.18 in favor of the model_selection module into which all the refactored classes and functions are moved. Also note that the interface of the new CV iterators are different from that of this module. This module will be removed in 0.20.\n",
      "  \"This module will be removed in 0.20.\", DeprecationWarning)\n"
     ]
    }
   ],
   "source": [
    "#Import models from scikit learn module:\n",
    "from sklearn.linear_model import LogisticRegression\n",
    "from sklearn.cross_validation import KFold   #For K-fold cross validation\n",
    "from sklearn.ensemble import RandomForestClassifier\n",
    "from sklearn.tree import  export_graphviz\n",
    "from sklearn import metrics\n",
    "\n",
    "#Generic function for making a classification model and accessing performance:\n",
    "def classification_model(model, data, predictors, outcome):\n",
    "  model.fit(data[predictors],data[outcome])\n",
    "  \n",
    "  predictions = model.predict(data[predictors])\n",
    "  \n",
    "  accuracy = metrics.accuracy_score(predictions,data[outcome])\n",
    "  print('Accuracy : %s' % '{0:.3%}'.format(accuracy))\n",
    "\n",
    "  kf = KFold(data.shape[0], n_folds=10)\n",
    "  error = []\n",
    "  for train, test in kf:\n",
    "    train_predictors = (data[predictors].iloc[train,:])\n",
    "    \n",
    "    train_target = data[outcome].iloc[train]\n",
    "    \n",
    "    model.fit(train_predictors, train_target)\n",
    "    \n",
    "    error.append(model.score(data[predictors].iloc[test,:], data[outcome].iloc[test]))\n",
    " \n",
    "  print('Cross-Validation Score : %s' % '{0:.3%}'.format(np.mean(error)))\n",
    "\n",
    "  model.fit(data[predictors],data[outcome]) "
   ]
  },
  {
   "cell_type": "code",
   "execution_count": 146,
   "metadata": {},
   "outputs": [
    {
     "name": "stderr",
     "output_type": "stream",
     "text": [
      "C:\\Users\\cityzen10\\AppData\\Local\\Continuum\\anaconda3\\lib\\site-packages\\sklearn\\utils\\validation.py:526: DataConversionWarning: A column-vector y was passed when a 1d array was expected. Please change the shape of y to (n_samples, ), for example using ravel().\n",
      "  y = column_or_1d(y, warn=True)\n",
      "C:\\Users\\cityzen10\\AppData\\Local\\Continuum\\anaconda3\\lib\\site-packages\\sklearn\\utils\\validation.py:526: DataConversionWarning: A column-vector y was passed when a 1d array was expected. Please change the shape of y to (n_samples, ), for example using ravel().\n",
      "  y = column_or_1d(y, warn=True)\n",
      "C:\\Users\\cityzen10\\AppData\\Local\\Continuum\\anaconda3\\lib\\site-packages\\sklearn\\utils\\validation.py:526: DataConversionWarning: A column-vector y was passed when a 1d array was expected. Please change the shape of y to (n_samples, ), for example using ravel().\n",
      "  y = column_or_1d(y, warn=True)\n",
      "C:\\Users\\cityzen10\\AppData\\Local\\Continuum\\anaconda3\\lib\\site-packages\\sklearn\\utils\\validation.py:526: DataConversionWarning: A column-vector y was passed when a 1d array was expected. Please change the shape of y to (n_samples, ), for example using ravel().\n",
      "  y = column_or_1d(y, warn=True)\n",
      "C:\\Users\\cityzen10\\AppData\\Local\\Continuum\\anaconda3\\lib\\site-packages\\sklearn\\utils\\validation.py:526: DataConversionWarning: A column-vector y was passed when a 1d array was expected. Please change the shape of y to (n_samples, ), for example using ravel().\n",
      "  y = column_or_1d(y, warn=True)\n",
      "C:\\Users\\cityzen10\\AppData\\Local\\Continuum\\anaconda3\\lib\\site-packages\\sklearn\\utils\\validation.py:526: DataConversionWarning: A column-vector y was passed when a 1d array was expected. Please change the shape of y to (n_samples, ), for example using ravel().\n",
      "  y = column_or_1d(y, warn=True)\n",
      "C:\\Users\\cityzen10\\AppData\\Local\\Continuum\\anaconda3\\lib\\site-packages\\sklearn\\utils\\validation.py:526: DataConversionWarning: A column-vector y was passed when a 1d array was expected. Please change the shape of y to (n_samples, ), for example using ravel().\n",
      "  y = column_or_1d(y, warn=True)\n",
      "C:\\Users\\cityzen10\\AppData\\Local\\Continuum\\anaconda3\\lib\\site-packages\\sklearn\\utils\\validation.py:526: DataConversionWarning: A column-vector y was passed when a 1d array was expected. Please change the shape of y to (n_samples, ), for example using ravel().\n",
      "  y = column_or_1d(y, warn=True)\n",
      "C:\\Users\\cityzen10\\AppData\\Local\\Continuum\\anaconda3\\lib\\site-packages\\sklearn\\utils\\validation.py:526: DataConversionWarning: A column-vector y was passed when a 1d array was expected. Please change the shape of y to (n_samples, ), for example using ravel().\n",
      "  y = column_or_1d(y, warn=True)\n",
      "C:\\Users\\cityzen10\\AppData\\Local\\Continuum\\anaconda3\\lib\\site-packages\\sklearn\\utils\\validation.py:526: DataConversionWarning: A column-vector y was passed when a 1d array was expected. Please change the shape of y to (n_samples, ), for example using ravel().\n",
      "  y = column_or_1d(y, warn=True)\n"
     ]
    },
    {
     "name": "stdout",
     "output_type": "stream",
     "text": [
      "Accuracy : 46.714%\n",
      "Cross-Validation Score : 38.920%\n"
     ]
    },
    {
     "name": "stderr",
     "output_type": "stream",
     "text": [
      "C:\\Users\\cityzen10\\AppData\\Local\\Continuum\\anaconda3\\lib\\site-packages\\sklearn\\utils\\validation.py:526: DataConversionWarning: A column-vector y was passed when a 1d array was expected. Please change the shape of y to (n_samples, ), for example using ravel().\n",
      "  y = column_or_1d(y, warn=True)\n",
      "C:\\Users\\cityzen10\\AppData\\Local\\Continuum\\anaconda3\\lib\\site-packages\\sklearn\\utils\\validation.py:526: DataConversionWarning: A column-vector y was passed when a 1d array was expected. Please change the shape of y to (n_samples, ), for example using ravel().\n",
      "  y = column_or_1d(y, warn=True)\n"
     ]
    }
   ],
   "source": [
    "from sklearn.linear_model import LogisticRegression\n",
    "outcome_var=['Winner']\n",
    "predictor_var = ['TeamA','TeamB','Toss','Toss_Decision','HTH','WinningPerDes','Strength','Latest_Form']\n",
    "model = LogisticRegression( tol=0.0001, C=2.0, fit_intercept=True, intercept_scaling=1, class_weight=None, random_state=None, solver='liblinear', max_iter=3000, multi_class='ovr', verbose=0, warm_start=False, n_jobs=1000)\n",
    "classification_model(model, df,predictor_var,outcome_var)"
   ]
  },
  {
   "cell_type": "code",
   "execution_count": 147,
   "metadata": {},
   "outputs": [
    {
     "data": {
      "text/html": [
       "<div>\n",
       "<style scoped>\n",
       "    .dataframe tbody tr th:only-of-type {\n",
       "        vertical-align: middle;\n",
       "    }\n",
       "\n",
       "    .dataframe tbody tr th {\n",
       "        vertical-align: top;\n",
       "    }\n",
       "\n",
       "    .dataframe thead th {\n",
       "        text-align: right;\n",
       "    }\n",
       "</style>\n",
       "<table border=\"1\" class=\"dataframe\">\n",
       "  <thead>\n",
       "    <tr style=\"text-align: right;\">\n",
       "      <th></th>\n",
       "      <th>Unnamed: 0</th>\n",
       "      <th>Toss</th>\n",
       "      <th>Toss_Decision</th>\n",
       "      <th>Winner</th>\n",
       "      <th>TeamA</th>\n",
       "      <th>TeamB</th>\n",
       "      <th>HTH</th>\n",
       "      <th>WinningPerDes</th>\n",
       "      <th>Strength</th>\n",
       "      <th>Latest_Form</th>\n",
       "    </tr>\n",
       "  </thead>\n",
       "  <tbody>\n",
       "    <tr>\n",
       "      <th>0</th>\n",
       "      <td>0</td>\n",
       "      <td>7</td>\n",
       "      <td>1</td>\n",
       "      <td>7</td>\n",
       "      <td>3</td>\n",
       "      <td>7</td>\n",
       "      <td>1.0</td>\n",
       "      <td>0.0</td>\n",
       "      <td>16.795000</td>\n",
       "      <td>5.90326</td>\n",
       "    </tr>\n",
       "    <tr>\n",
       "      <th>1</th>\n",
       "      <td>1</td>\n",
       "      <td>7</td>\n",
       "      <td>0</td>\n",
       "      <td>5</td>\n",
       "      <td>3</td>\n",
       "      <td>7</td>\n",
       "      <td>1.0</td>\n",
       "      <td>0.0</td>\n",
       "      <td>4.058062</td>\n",
       "      <td>5.90326</td>\n",
       "    </tr>\n",
       "    <tr>\n",
       "      <th>2</th>\n",
       "      <td>2</td>\n",
       "      <td>7</td>\n",
       "      <td>0</td>\n",
       "      <td>7</td>\n",
       "      <td>3</td>\n",
       "      <td>7</td>\n",
       "      <td>0.0</td>\n",
       "      <td>0.0</td>\n",
       "      <td>15.274242</td>\n",
       "      <td>5.90326</td>\n",
       "    </tr>\n",
       "  </tbody>\n",
       "</table>\n",
       "</div>"
      ],
      "text/plain": [
       "   Unnamed: 0  Toss  Toss_Decision  Winner  TeamA  TeamB  HTH  WinningPerDes  \\\n",
       "0           0     7              1       7      3      7  1.0            0.0   \n",
       "1           1     7              0       5      3      7  1.0            0.0   \n",
       "2           2     7              0       7      3      7  0.0            0.0   \n",
       "\n",
       "    Strength  Latest_Form  \n",
       "0  16.795000      5.90326  \n",
       "1   4.058062      5.90326  \n",
       "2  15.274242      5.90326  "
      ]
     },
     "execution_count": 147,
     "metadata": {},
     "output_type": "execute_result"
    }
   ],
   "source": [
    "df.head(3)"
   ]
  },
  {
   "cell_type": "code",
   "execution_count": null,
   "metadata": {},
   "outputs": [],
   "source": []
  },
  {
   "cell_type": "code",
   "execution_count": 148,
   "metadata": {},
   "outputs": [
    {
     "name": "stderr",
     "output_type": "stream",
     "text": [
      "C:\\Users\\cityzen10\\AppData\\Local\\Continuum\\anaconda3\\lib\\site-packages\\ipykernel_launcher.py:10: DataConversionWarning: A column-vector y was passed when a 1d array was expected. Please change the shape of y to (n_samples,), for example using ravel().\n",
      "  # Remove the CWD from sys.path while we load stuff.\n"
     ]
    },
    {
     "name": "stdout",
     "output_type": "stream",
     "text": [
      "Accuracy : 100.000%\n"
     ]
    },
    {
     "name": "stderr",
     "output_type": "stream",
     "text": [
      "C:\\Users\\cityzen10\\AppData\\Local\\Continuum\\anaconda3\\lib\\site-packages\\ipykernel_launcher.py:24: DataConversionWarning: A column-vector y was passed when a 1d array was expected. Please change the shape of y to (n_samples,), for example using ravel().\n",
      "C:\\Users\\cityzen10\\AppData\\Local\\Continuum\\anaconda3\\lib\\site-packages\\ipykernel_launcher.py:24: DataConversionWarning: A column-vector y was passed when a 1d array was expected. Please change the shape of y to (n_samples,), for example using ravel().\n",
      "C:\\Users\\cityzen10\\AppData\\Local\\Continuum\\anaconda3\\lib\\site-packages\\ipykernel_launcher.py:24: DataConversionWarning: A column-vector y was passed when a 1d array was expected. Please change the shape of y to (n_samples,), for example using ravel().\n",
      "C:\\Users\\cityzen10\\AppData\\Local\\Continuum\\anaconda3\\lib\\site-packages\\ipykernel_launcher.py:24: DataConversionWarning: A column-vector y was passed when a 1d array was expected. Please change the shape of y to (n_samples,), for example using ravel().\n",
      "C:\\Users\\cityzen10\\AppData\\Local\\Continuum\\anaconda3\\lib\\site-packages\\ipykernel_launcher.py:24: DataConversionWarning: A column-vector y was passed when a 1d array was expected. Please change the shape of y to (n_samples,), for example using ravel().\n",
      "C:\\Users\\cityzen10\\AppData\\Local\\Continuum\\anaconda3\\lib\\site-packages\\ipykernel_launcher.py:24: DataConversionWarning: A column-vector y was passed when a 1d array was expected. Please change the shape of y to (n_samples,), for example using ravel().\n",
      "C:\\Users\\cityzen10\\AppData\\Local\\Continuum\\anaconda3\\lib\\site-packages\\ipykernel_launcher.py:24: DataConversionWarning: A column-vector y was passed when a 1d array was expected. Please change the shape of y to (n_samples,), for example using ravel().\n",
      "C:\\Users\\cityzen10\\AppData\\Local\\Continuum\\anaconda3\\lib\\site-packages\\ipykernel_launcher.py:24: DataConversionWarning: A column-vector y was passed when a 1d array was expected. Please change the shape of y to (n_samples,), for example using ravel().\n",
      "C:\\Users\\cityzen10\\AppData\\Local\\Continuum\\anaconda3\\lib\\site-packages\\ipykernel_launcher.py:24: DataConversionWarning: A column-vector y was passed when a 1d array was expected. Please change the shape of y to (n_samples,), for example using ravel().\n",
      "C:\\Users\\cityzen10\\AppData\\Local\\Continuum\\anaconda3\\lib\\site-packages\\ipykernel_launcher.py:24: DataConversionWarning: A column-vector y was passed when a 1d array was expected. Please change the shape of y to (n_samples,), for example using ravel().\n"
     ]
    },
    {
     "name": "stdout",
     "output_type": "stream",
     "text": [
      "Cross-Validation Score : 55.836%\n"
     ]
    },
    {
     "name": "stderr",
     "output_type": "stream",
     "text": [
      "C:\\Users\\cityzen10\\AppData\\Local\\Continuum\\anaconda3\\lib\\site-packages\\ipykernel_launcher.py:30: DataConversionWarning: A column-vector y was passed when a 1d array was expected. Please change the shape of y to (n_samples,), for example using ravel().\n"
     ]
    }
   ],
   "source": [
    "model = RandomForestClassifier(n_estimators=100)\n",
    "outcome_var = ['Winner']\n",
    "predictor_var = ['TeamA','TeamB','Toss','Toss_Decision','HTH','WinningPerDes','Strength','Latest_Form']\n",
    "classification_model(model, df,predictor_var,outcome_var)"
   ]
  },
  {
   "cell_type": "code",
   "execution_count": 149,
   "metadata": {},
   "outputs": [
    {
     "name": "stdout",
     "output_type": "stream",
     "text": [
      "Toss_Decision    0.031510\n",
      "WinningPerDes    0.091972\n",
      "Toss             0.109684\n",
      "HTH              0.110926\n",
      "TeamB            0.150590\n",
      "Strength         0.156735\n",
      "Latest_Form      0.164529\n",
      "TeamA            0.184054\n",
      "dtype: float64\n"
     ]
    },
    {
     "data": {
      "image/png": "[encoded data removed]",
      "text/plain": [
       "<Figure size 720x432 with 1 Axes>"
      ]
     },
     "metadata": {},
     "output_type": "display_data"
    }
   ],
   "source": [
    "#feature importances: If we ignore teams, latest form seems to be one of important factors in determining winners \n",
    "from PIL import Image\n",
    "import matplotlib.pyplot as plt\n",
    "imp_input = pd.Series(model.feature_importances_, index=predictor_var).sort_values(ascending=True)\n",
    "fig = plt.figure(figsize=(10,6))\n",
    "imp_input.plot(kind='barh')\n",
    "fig.savefig('fanalysis1.png',bbox_inches = 'tight')\n",
    "plt.rcParams.update({'font.size': 14})\n",
    "print(imp_input)"
   ]
  },
  {
   "cell_type": "code",
   "execution_count": 150,
   "metadata": {},
   "outputs": [
    {
     "data": {
      "image/png": "[encoded data removed]",
      "text/plain": [
       "<Figure size 288x288 with 1 Axes>"
      ]
     },
     "metadata": {},
     "output_type": "display_data"
    }
   ],
   "source": [
    "#okay from the above prediction on features, we notice toss winner has least chances of winning matches\n",
    "#but does the current stats shows the same result\n",
    "#print(df.count) \n",
    "import matplotlib.pyplot as mlt\n",
    "mlt.style.use('fivethirtyeight')\n",
    "df_fil=df[df['Toss_Decision']==df['Winner']]\n",
    "slices=[len(df_fil),(426-len(df_fil))]\n",
    "mlt.pie(slices,labels=['Toss Decision & Win','Toss Decision & Loss'],startangle=90,shadow=True,explode=(0,0),autopct='%1.1f%%',colors=['g','r'])\n",
    "fig = mlt.gcf()\n",
    "fig.set_size_inches(4,4)\n",
    "mlt.show()\n",
    "plt.rcParams.update({'font.size': 90})\n",
    "\n",
    "fig.savefig(\"toss_decision.png\",bbox_inches = 'tight')\n",
    "# Toss winning does not gaurantee a match win from analysis of current stats and thus \n",
    "#prediction feature gives less score to that "
   ]
  },
  {
   "cell_type": "code",
   "execution_count": null,
   "metadata": {},
   "outputs": [],
   "source": []
  },
  {
   "cell_type": "code",
   "execution_count": null,
   "metadata": {},
   "outputs": [],
   "source": []
  },
  {
   "cell_type": "code",
   "execution_count": null,
   "metadata": {},
   "outputs": [],
   "source": []
  },
  {
   "cell_type": "code",
   "execution_count": null,
   "metadata": {},
   "outputs": [],
   "source": []
  },
  {
   "cell_type": "code",
   "execution_count": null,
   "metadata": {},
   "outputs": [],
   "source": []
  },
  {
   "cell_type": "code",
   "execution_count": null,
   "metadata": {},
   "outputs": [],
   "source": []
  },
  {
   "cell_type": "code",
   "execution_count": null,
   "metadata": {},
   "outputs": [],
   "source": []
  },
  {
   "cell_type": "code",
   "execution_count": null,
   "metadata": {},
   "outputs": [],
   "source": []
  },
  {
   "cell_type": "code",
   "execution_count": null,
   "metadata": {},
   "outputs": [],
   "source": []
  },
  {
   "cell_type": "code",
   "execution_count": null,
   "metadata": {},
   "outputs": [],
   "source": []
  },
  {
   "cell_type": "code",
   "execution_count": null,
   "metadata": {},
   "outputs": [],
   "source": []
  },
  {
   "cell_type": "code",
   "execution_count": null,
   "metadata": {},
   "outputs": [],
   "source": []
  },
  {
   "cell_type": "code",
   "execution_count": null,
   "metadata": {},
   "outputs": [],
   "source": []
  },
  {
   "cell_type": "code",
   "execution_count": null,
   "metadata": {},
   "outputs": [],
   "source": []
  },
  {
   "cell_type": "code",
   "execution_count": null,
   "metadata": {},
   "outputs": [],
   "source": []
  },
  {
   "cell_type": "code",
   "execution_count": null,
   "metadata": {},
   "outputs": [],
   "source": []
  },
  {
   "cell_type": "code",
   "execution_count": null,
   "metadata": {},
   "outputs": [],
   "source": []
  },
  {
   "cell_type": "code",
   "execution_count": null,
   "metadata": {},
   "outputs": [],
   "source": []
  },
  {
   "cell_type": "code",
   "execution_count": null,
   "metadata": {},
   "outputs": [],
   "source": []
  },
  {
   "cell_type": "code",
   "execution_count": null,
   "metadata": {},
   "outputs": [],
   "source": []
  },
  {
   "cell_type": "code",
   "execution_count": null,
   "metadata": {},
   "outputs": [],
   "source": []
  },
  {
   "cell_type": "code",
   "execution_count": null,
   "metadata": {},
   "outputs": [],
   "source": []
  },
  {
   "cell_type": "code",
   "execution_count": null,
   "metadata": {},
   "outputs": [],
   "source": []
  },
  {
   "cell_type": "code",
   "execution_count": null,
   "metadata": {},
   "outputs": [],
   "source": []
  },
  {
   "cell_type": "code",
   "execution_count": null,
   "metadata": {},
   "outputs": [],
   "source": []
  },
  {
   "cell_type": "code",
   "execution_count": null,
   "metadata": {},
   "outputs": [],
   "source": []
  },
  {
   "cell_type": "code",
   "execution_count": null,
   "metadata": {},
   "outputs": [],
   "source": []
  },
  {
   "cell_type": "code",
   "execution_count": null,
   "metadata": {},
   "outputs": [],
   "source": []
  },
  {
   "cell_type": "code",
   "execution_count": null,
   "metadata": {},
   "outputs": [],
   "source": []
  },
  {
   "cell_type": "code",
   "execution_count": null,
   "metadata": {},
   "outputs": [],
   "source": []
  },
  {
   "cell_type": "code",
   "execution_count": null,
   "metadata": {},
   "outputs": [],
   "source": []
  }
 ],
 "metadata": {
  "kernelspec": {
   "display_name": "Python 3",
   "language": "python",
   "name": "python3"
  },
  "language_info": {
   "codemirror_mode": {
    "name": "ipython",
    "version": 3
   },
   "file_extension": ".py",
   "mimetype": "text/x-python",
   "name": "python",
   "nbconvert_exporter": "python",
   "pygments_lexer": "ipython3",
   "version": "3.6.5"
  }
 },
 "nbformat": 4,
 "nbformat_minor": 2
}
